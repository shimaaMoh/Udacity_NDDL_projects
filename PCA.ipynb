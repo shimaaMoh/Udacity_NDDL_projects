{
 "cells": [
  {
   "cell_type": "code",
   "execution_count": null,
   "metadata": {},
   "outputs": [],
   "source": [
    "## TODO: Apllying PCA reduce Dim\n",
    "from sklearn.decomposition import PCA\n",
    "\n",
    "def apply_pca(n, features):\n",
    "    \n",
    "    pca = PCA(n_components = n) \n",
    "    x_new = pca.fit_transform(features)\n",
    "        \n",
    "    return pca, pd.DataFrame(x_new)\n",
    "pca_obj, _ = apply_pca(40 ,df_feat_b)\n",
    "print(\"Explained Variance:\", list(pca_obj.explained_variance_ratio_))\n",
    "\n",
    "#sum(pca_obj.explained_variance_ratio_)\n",
    "plt.figure(figsize = (12, 8))\n",
    "\n",
    "plt.plot(np.cumsum(pca_obj.explained_variance_ratio_))\n",
    "\n",
    "plt.xlabel('n components')\n",
    "plt.ylabel('cumulative variance')"
   ]
  }
 ],
 "metadata": {
  "kernelspec": {
   "display_name": "Python 3",
   "language": "python",
   "name": "python3"
  },
  "language_info": {
   "codemirror_mode": {
    "name": "ipython",
    "version": 3
   },
   "file_extension": ".py",
   "mimetype": "text/x-python",
   "name": "python",
   "nbconvert_exporter": "python",
   "pygments_lexer": "ipython3",
   "version": "3.7.6"
  }
 },
 "nbformat": 4,
 "nbformat_minor": 4
}
